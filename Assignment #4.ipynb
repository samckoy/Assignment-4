{
 "cells": [
  {
   "cell_type": "markdown",
   "id": "7aea4e48",
   "metadata": {},
   "source": [
    "[![Open In Colab](https://colab.research.google.com/assets/colab-badge.svg)](https://colab.research.google.com/github/samckoy/Assignment-4/blob/main/Assignment%20%234.ipynb)"
   ]
  },
  {
   "cell_type": "code",
   "execution_count": 1,
   "id": "a44ed46c",
   "metadata": {},
   "outputs": [],
   "source": [
    "import pandas as pd\n",
    "import numpy as np\n",
    "from sklearn.datasets import load_iris\n",
    "from sklearn.model_selection import train_test_split\n",
    "from sklearn.linear_model import LogisticRegression\n",
    "from sklearn.model_selection import cross_val_score\n",
    "from sklearn.svm import SVC\n",
    "from sklearn.neural_network import MLPClassifier\n",
    "from sklearn.neighbors import KNeighborsClassifier"
   ]
  },
  {
   "cell_type": "markdown",
   "id": "b6a6bedc",
   "metadata": {},
   "source": [
    "# Part 1: Load the Dataset"
   ]
  },
  {
   "cell_type": "markdown",
   "id": "9eeaa8d6",
   "metadata": {},
   "source": [
    "Using pandas, we are remotely loading and reading the csv file."
   ]
  },
  {
   "cell_type": "code",
   "execution_count": 2,
   "id": "daf7222c",
   "metadata": {},
   "outputs": [],
   "source": [
    "iris = pd.read_csv(\"https://raw.githubusercontent.com/pandas-dev/pandas/main/pandas/tests/io/data/csv/iris.csv\")"
   ]
  },
  {
   "cell_type": "markdown",
   "id": "255611d1",
   "metadata": {},
   "source": [
    "Using the head( ) function, we can create a table that only displays the first 15 rows of data."
   ]
  },
  {
   "cell_type": "code",
   "execution_count": 3,
   "id": "dc54a10d",
   "metadata": {},
   "outputs": [
    {
     "data": {
      "text/html": [
       "<div>\n",
       "<style scoped>\n",
       "    .dataframe tbody tr th:only-of-type {\n",
       "        vertical-align: middle;\n",
       "    }\n",
       "\n",
       "    .dataframe tbody tr th {\n",
       "        vertical-align: top;\n",
       "    }\n",
       "\n",
       "    .dataframe thead th {\n",
       "        text-align: right;\n",
       "    }\n",
       "</style>\n",
       "<table border=\"1\" class=\"dataframe\">\n",
       "  <thead>\n",
       "    <tr style=\"text-align: right;\">\n",
       "      <th></th>\n",
       "      <th>SepalLength</th>\n",
       "      <th>SepalWidth</th>\n",
       "      <th>PetalLength</th>\n",
       "      <th>PetalWidth</th>\n",
       "      <th>Name</th>\n",
       "    </tr>\n",
       "  </thead>\n",
       "  <tbody>\n",
       "    <tr>\n",
       "      <th>0</th>\n",
       "      <td>5.1</td>\n",
       "      <td>3.5</td>\n",
       "      <td>1.4</td>\n",
       "      <td>0.2</td>\n",
       "      <td>Iris-setosa</td>\n",
       "    </tr>\n",
       "    <tr>\n",
       "      <th>1</th>\n",
       "      <td>4.9</td>\n",
       "      <td>3.0</td>\n",
       "      <td>1.4</td>\n",
       "      <td>0.2</td>\n",
       "      <td>Iris-setosa</td>\n",
       "    </tr>\n",
       "    <tr>\n",
       "      <th>2</th>\n",
       "      <td>4.7</td>\n",
       "      <td>3.2</td>\n",
       "      <td>1.3</td>\n",
       "      <td>0.2</td>\n",
       "      <td>Iris-setosa</td>\n",
       "    </tr>\n",
       "    <tr>\n",
       "      <th>3</th>\n",
       "      <td>4.6</td>\n",
       "      <td>3.1</td>\n",
       "      <td>1.5</td>\n",
       "      <td>0.2</td>\n",
       "      <td>Iris-setosa</td>\n",
       "    </tr>\n",
       "    <tr>\n",
       "      <th>4</th>\n",
       "      <td>5.0</td>\n",
       "      <td>3.6</td>\n",
       "      <td>1.4</td>\n",
       "      <td>0.2</td>\n",
       "      <td>Iris-setosa</td>\n",
       "    </tr>\n",
       "    <tr>\n",
       "      <th>5</th>\n",
       "      <td>5.4</td>\n",
       "      <td>3.9</td>\n",
       "      <td>1.7</td>\n",
       "      <td>0.4</td>\n",
       "      <td>Iris-setosa</td>\n",
       "    </tr>\n",
       "    <tr>\n",
       "      <th>6</th>\n",
       "      <td>4.6</td>\n",
       "      <td>3.4</td>\n",
       "      <td>1.4</td>\n",
       "      <td>0.3</td>\n",
       "      <td>Iris-setosa</td>\n",
       "    </tr>\n",
       "    <tr>\n",
       "      <th>7</th>\n",
       "      <td>5.0</td>\n",
       "      <td>3.4</td>\n",
       "      <td>1.5</td>\n",
       "      <td>0.2</td>\n",
       "      <td>Iris-setosa</td>\n",
       "    </tr>\n",
       "    <tr>\n",
       "      <th>8</th>\n",
       "      <td>4.4</td>\n",
       "      <td>2.9</td>\n",
       "      <td>1.4</td>\n",
       "      <td>0.2</td>\n",
       "      <td>Iris-setosa</td>\n",
       "    </tr>\n",
       "    <tr>\n",
       "      <th>9</th>\n",
       "      <td>4.9</td>\n",
       "      <td>3.1</td>\n",
       "      <td>1.5</td>\n",
       "      <td>0.1</td>\n",
       "      <td>Iris-setosa</td>\n",
       "    </tr>\n",
       "    <tr>\n",
       "      <th>10</th>\n",
       "      <td>5.4</td>\n",
       "      <td>3.7</td>\n",
       "      <td>1.5</td>\n",
       "      <td>0.2</td>\n",
       "      <td>Iris-setosa</td>\n",
       "    </tr>\n",
       "    <tr>\n",
       "      <th>11</th>\n",
       "      <td>4.8</td>\n",
       "      <td>3.4</td>\n",
       "      <td>1.6</td>\n",
       "      <td>0.2</td>\n",
       "      <td>Iris-setosa</td>\n",
       "    </tr>\n",
       "    <tr>\n",
       "      <th>12</th>\n",
       "      <td>4.8</td>\n",
       "      <td>3.0</td>\n",
       "      <td>1.4</td>\n",
       "      <td>0.1</td>\n",
       "      <td>Iris-setosa</td>\n",
       "    </tr>\n",
       "    <tr>\n",
       "      <th>13</th>\n",
       "      <td>4.3</td>\n",
       "      <td>3.0</td>\n",
       "      <td>1.1</td>\n",
       "      <td>0.1</td>\n",
       "      <td>Iris-setosa</td>\n",
       "    </tr>\n",
       "    <tr>\n",
       "      <th>14</th>\n",
       "      <td>5.8</td>\n",
       "      <td>4.0</td>\n",
       "      <td>1.2</td>\n",
       "      <td>0.2</td>\n",
       "      <td>Iris-setosa</td>\n",
       "    </tr>\n",
       "  </tbody>\n",
       "</table>\n",
       "</div>"
      ],
      "text/plain": [
       "    SepalLength  SepalWidth  PetalLength  PetalWidth         Name\n",
       "0           5.1         3.5          1.4         0.2  Iris-setosa\n",
       "1           4.9         3.0          1.4         0.2  Iris-setosa\n",
       "2           4.7         3.2          1.3         0.2  Iris-setosa\n",
       "3           4.6         3.1          1.5         0.2  Iris-setosa\n",
       "4           5.0         3.6          1.4         0.2  Iris-setosa\n",
       "5           5.4         3.9          1.7         0.4  Iris-setosa\n",
       "6           4.6         3.4          1.4         0.3  Iris-setosa\n",
       "7           5.0         3.4          1.5         0.2  Iris-setosa\n",
       "8           4.4         2.9          1.4         0.2  Iris-setosa\n",
       "9           4.9         3.1          1.5         0.1  Iris-setosa\n",
       "10          5.4         3.7          1.5         0.2  Iris-setosa\n",
       "11          4.8         3.4          1.6         0.2  Iris-setosa\n",
       "12          4.8         3.0          1.4         0.1  Iris-setosa\n",
       "13          4.3         3.0          1.1         0.1  Iris-setosa\n",
       "14          5.8         4.0          1.2         0.2  Iris-setosa"
      ]
     },
     "execution_count": 3,
     "metadata": {},
     "output_type": "execute_result"
    }
   ],
   "source": [
    "iris.head(15)"
   ]
  },
  {
   "cell_type": "markdown",
   "id": "2b1fe6b4",
   "metadata": {},
   "source": [
    "The info( ) function provides a technical summary of the data."
   ]
  },
  {
   "cell_type": "code",
   "execution_count": 4,
   "id": "095c760b",
   "metadata": {},
   "outputs": [
    {
     "name": "stdout",
     "output_type": "stream",
     "text": [
      "<class 'pandas.core.frame.DataFrame'>\n",
      "RangeIndex: 150 entries, 0 to 149\n",
      "Data columns (total 5 columns):\n",
      " #   Column       Non-Null Count  Dtype  \n",
      "---  ------       --------------  -----  \n",
      " 0   SepalLength  150 non-null    float64\n",
      " 1   SepalWidth   150 non-null    float64\n",
      " 2   PetalLength  150 non-null    float64\n",
      " 3   PetalWidth   150 non-null    float64\n",
      " 4   Name         150 non-null    object \n",
      "dtypes: float64(4), object(1)\n",
      "memory usage: 6.0+ KB\n"
     ]
    }
   ],
   "source": [
    "iris.info()"
   ]
  },
  {
   "cell_type": "markdown",
   "id": "a5f5bd25",
   "metadata": {},
   "source": [
    "### About the Dataset"
   ]
  },
  {
   "cell_type": "markdown",
   "id": "b459c554",
   "metadata": {},
   "source": [
    "This dataset is using the dimensions of the sepal and petal of the iris to predict what species it is. The sepal length, sepal width, petal length, and petal width, would be considered the features. The name of the species would be considered the label. There are three classifications for the Iris: Setosa, Versicolor, and Virginica. Given the order in which the datapoints are presented, in an array Setosa would be at index 0, Versicolor would be at index 1, and Virginica would be at index 2. "
   ]
  },
  {
   "cell_type": "markdown",
   "id": "dae2481b",
   "metadata": {},
   "source": [
    "# Part 2: Split the Dataset into Train and Test"
   ]
  },
  {
   "cell_type": "markdown",
   "id": "35b420c4",
   "metadata": {},
   "source": [
    "In the case of this dataset, the dimensions of the Iris (the independent variables) determine the classification of the Iris's species (the dependent variable). Therefore, **SepalLength**, **SepalWidth**, **PetalLength**, and **PetalWidth** are our *X values*, **Name** is our *y value*."
   ]
  },
  {
   "cell_type": "code",
   "execution_count": 5,
   "id": "40da217f",
   "metadata": {},
   "outputs": [],
   "source": [
    "X = iris[[\"SepalLength\",\"SepalWidth\",\"PetalLength\",\"PetalWidth\"]]\n",
    "y = iris[\"Name\"]"
   ]
  },
  {
   "cell_type": "markdown",
   "id": "5ffcc421",
   "metadata": {},
   "source": [
    "From here, we split this data into a training set and a test set, where the training set is 90% of the data, and the test set is 10% of the data. I am setting the *random_state* parameter to 10 so that my results are consistent."
   ]
  },
  {
   "cell_type": "code",
   "execution_count": 6,
   "id": "0356cdbb",
   "metadata": {},
   "outputs": [],
   "source": [
    "X_train, X_test, y_train, y_test = train_test_split(X,y,test_size = 0.1,random_state = 10,shuffle=True)"
   ]
  },
  {
   "cell_type": "markdown",
   "id": "d683acd1",
   "metadata": {},
   "source": [
    "# Part 3: Logistic Regression"
   ]
  },
  {
   "cell_type": "markdown",
   "id": "17cfeeb2",
   "metadata": {},
   "source": [
    "Now, I'm using the training set to train my model. I am doing this by using the fit( ) function. The *max_iter* was changed from its default value to 3000, so that it could perform enough iterations to reach its convergence point. "
   ]
  },
  {
   "cell_type": "code",
   "execution_count": 7,
   "id": "6bbd2ac0",
   "metadata": {},
   "outputs": [],
   "source": [
    "log = LogisticRegression(max_iter=3000)"
   ]
  },
  {
   "cell_type": "code",
   "execution_count": 8,
   "id": "b8cdab8c",
   "metadata": {},
   "outputs": [
    {
     "data": {
      "text/plain": [
       "LogisticRegression(max_iter=3000)"
      ]
     },
     "execution_count": 8,
     "metadata": {},
     "output_type": "execute_result"
    }
   ],
   "source": [
    "log.fit(X_train.values,y_train)"
   ]
  },
  {
   "cell_type": "markdown",
   "id": "219c6eed",
   "metadata": {},
   "source": [
    "I now want to see what my model would predict the classification of the Iris's species to be if the SepalLength was 7.9, SepalWidth was 3.8, PetalLength was 6.4, and PetalWidth was 2.0. "
   ]
  },
  {
   "cell_type": "code",
   "execution_count": 9,
   "id": "f071e472",
   "metadata": {},
   "outputs": [
    {
     "data": {
      "text/plain": [
       "array([[9.55123664e-07, 2.11458405e-02, 9.78853204e-01]])"
      ]
     },
     "execution_count": 9,
     "metadata": {},
     "output_type": "execute_result"
    }
   ],
   "source": [
    "log.predict_proba([[7.9,3.8,6.4,2.0]])"
   ]
  },
  {
   "cell_type": "markdown",
   "id": "662f5b7c",
   "metadata": {},
   "source": [
    "The *predict_proba* function shows that there is a 0.0000009 chance the iris is a setosa, a 0.02 chance the iris is a versicolor, and a 0.97 chance that the iris is a virginica. The model predicts that this Iris is most likely a virginica. "
   ]
  },
  {
   "cell_type": "code",
   "execution_count": 10,
   "id": "a9b23d5a",
   "metadata": {},
   "outputs": [
    {
     "data": {
      "text/plain": [
       "0.9733333333333334"
      ]
     },
     "execution_count": 10,
     "metadata": {},
     "output_type": "execute_result"
    }
   ],
   "source": [
    "log_scores = cross_val_score(log,X,y,cv=5)\n",
    "log_scores.mean()"
   ]
  },
  {
   "cell_type": "markdown",
   "id": "9044c896",
   "metadata": {},
   "source": [
    "The score of our Logistic Regression model is approximately 0.973. This score shows us that our model is really good (almost perfect) at predicting the classification of the iris's species. "
   ]
  },
  {
   "cell_type": "code",
   "execution_count": 11,
   "id": "5203f0db",
   "metadata": {},
   "outputs": [
    {
     "data": {
      "text/plain": [
       "array([[-0.42048506,  0.92738651, -2.44019517, -1.0618295 ],\n",
       "       [ 0.53364864, -0.2484138 , -0.20532209, -0.84135553],\n",
       "       [-0.11316358, -0.67897271,  2.64551727,  1.90318503]])"
      ]
     },
     "execution_count": 11,
     "metadata": {},
     "output_type": "execute_result"
    }
   ],
   "source": [
    "log.coef_"
   ]
  },
  {
   "cell_type": "code",
   "execution_count": 12,
   "id": "902c26d4",
   "metadata": {},
   "outputs": [
    {
     "data": {
      "text/plain": [
       "array([  9.59028325,   1.78164547, -11.37192873])"
      ]
     },
     "execution_count": 12,
     "metadata": {},
     "output_type": "execute_result"
    }
   ],
   "source": [
    "log.intercept_"
   ]
  },
  {
   "cell_type": "markdown",
   "id": "d6ecf405",
   "metadata": {},
   "source": [
    "Using the *coef_* and *intercept_* functions, the coefficients and intercepts are extracted."
   ]
  },
  {
   "cell_type": "markdown",
   "id": "87888963",
   "metadata": {},
   "source": [
    "# Part 4: Support Vector Machine"
   ]
  },
  {
   "cell_type": "markdown",
   "id": "1c124666",
   "metadata": {},
   "source": [
    "Using the *fit( )* function, I am training the Support Vector Classifier with the training set. "
   ]
  },
  {
   "cell_type": "code",
   "execution_count": 13,
   "id": "cacb0894",
   "metadata": {},
   "outputs": [],
   "source": [
    "svm = SVC(probability=True)"
   ]
  },
  {
   "cell_type": "code",
   "execution_count": 14,
   "id": "6750b995",
   "metadata": {},
   "outputs": [
    {
     "data": {
      "text/plain": [
       "SVC(probability=True)"
      ]
     },
     "execution_count": 14,
     "metadata": {},
     "output_type": "execute_result"
    }
   ],
   "source": [
    "svm.fit(X_train.values,y_train)"
   ]
  },
  {
   "cell_type": "markdown",
   "id": "8ef2deba",
   "metadata": {},
   "source": [
    "Using the same sample datapoint as I did in Part 3, I want to see how the probabilities compare in predicting the classification of the Iris's species. "
   ]
  },
  {
   "cell_type": "code",
   "execution_count": 15,
   "id": "b795eb99",
   "metadata": {},
   "outputs": [
    {
     "data": {
      "text/plain": [
       "array([[0.01613359, 0.00692785, 0.97693856]])"
      ]
     },
     "execution_count": 15,
     "metadata": {},
     "output_type": "execute_result"
    }
   ],
   "source": [
    "svm.predict_proba([[7.9,3.8,6.4,2.0]])"
   ]
  },
  {
   "cell_type": "markdown",
   "id": "a5522bd3",
   "metadata": {},
   "source": [
    "The predict_proba function shows that there is a 0.016 chance the iris is a setosa, a 0.008 chance the iris is a versicolor, and a 0.976 chance that the iris is a virginica. Similarly to model in Part 3, this model predicts that this Iris is most likely a virginica."
   ]
  },
  {
   "cell_type": "code",
   "execution_count": 16,
   "id": "3232735f",
   "metadata": {},
   "outputs": [
    {
     "data": {
      "text/plain": [
       "0.9666666666666666"
      ]
     },
     "execution_count": 16,
     "metadata": {},
     "output_type": "execute_result"
    }
   ],
   "source": [
    "svm_scores = cross_val_score(svm,X,y,cv=5)\n",
    "svm_scores.mean()"
   ]
  },
  {
   "cell_type": "markdown",
   "id": "58263f95",
   "metadata": {},
   "source": [
    "The score for the SVM was approximately 0.966. This score shows us that the SVM does a good job at predicting the classification of the iris's species based on its given measurements. Its score is very similar to the score of the Logistic Regression model. "
   ]
  },
  {
   "cell_type": "markdown",
   "id": "0d09995c",
   "metadata": {},
   "source": [
    "# Part 5: Neural Network"
   ]
  },
  {
   "cell_type": "markdown",
   "id": "0616c4d2",
   "metadata": {},
   "source": [
    "I am now training the neural network (MLP Classifier) with the training set. "
   ]
  },
  {
   "cell_type": "code",
   "execution_count": 17,
   "id": "139335f2",
   "metadata": {},
   "outputs": [],
   "source": [
    "nn = MLPClassifier(max_iter=3000)"
   ]
  },
  {
   "cell_type": "code",
   "execution_count": 18,
   "id": "31935ed1",
   "metadata": {},
   "outputs": [
    {
     "data": {
      "text/plain": [
       "MLPClassifier(max_iter=3000)"
      ]
     },
     "execution_count": 18,
     "metadata": {},
     "output_type": "execute_result"
    }
   ],
   "source": [
    "nn.fit(X_train.values,y_train)"
   ]
  },
  {
   "cell_type": "markdown",
   "id": "a9d868e4",
   "metadata": {},
   "source": [
    "Using the same sample datapoint as I did in the previous parts, I want to see how the probabilities compare in predicting the classification of the Iris's species."
   ]
  },
  {
   "cell_type": "code",
   "execution_count": 19,
   "id": "c4edffbb",
   "metadata": {},
   "outputs": [
    {
     "data": {
      "text/plain": [
       "array([[2.07202568e-05, 1.80869402e-01, 8.19109878e-01]])"
      ]
     },
     "execution_count": 19,
     "metadata": {},
     "output_type": "execute_result"
    }
   ],
   "source": [
    "nn.predict_proba([[7.9,3.8,6.4,2.0]])"
   ]
  },
  {
   "cell_type": "markdown",
   "id": "171f8a4e",
   "metadata": {},
   "source": [
    "The predict_proba function (at the moment I am running the program) shows that there is a 0.00002 chance the iris is a setosa, a 0.18 chance the iris is a versicolor, and a 0.82 chance that the iris is a virginica. Similarly to models in previous parts, this model predicts that this Iris is most likely a virginica. However, It's probability for predicting virginica is about 10% less than the previous models.  "
   ]
  },
  {
   "cell_type": "code",
   "execution_count": 25,
   "id": "90606e36",
   "metadata": {},
   "outputs": [
    {
     "data": {
      "text/plain": [
       "0.9800000000000001"
      ]
     },
     "execution_count": 25,
     "metadata": {},
     "output_type": "execute_result"
    }
   ],
   "source": [
    "nn_scores = cross_val_score(nn,X,y,cv=5)\n",
    "nn_scores.mean()"
   ]
  },
  {
   "cell_type": "markdown",
   "id": "c2c99a83",
   "metadata": {},
   "source": [
    "The score for the Neural Network was approximately 0.9801. This score shows us that the neural network does a really good job at predicting the iris's species classification based on its given measurements. Its score is very similar to the scores of the models in the previous parts."
   ]
  },
  {
   "cell_type": "markdown",
   "id": "1bb26482",
   "metadata": {},
   "source": [
    "After experimenting with several different configurations for the neural network, I couldn't get a better score the model than 0.9801. When I got a worse score than 0.9801, it was because the model wasn't able to reach its convergence point. It seemed to be that any configuration (as long as the model reach its convergence point) gave me the same score. "
   ]
  },
  {
   "cell_type": "markdown",
   "id": "772da35c",
   "metadata": {},
   "source": [
    "# Part 6: K-Nearest Neighbors"
   ]
  },
  {
   "cell_type": "markdown",
   "id": "79c47ed9",
   "metadata": {},
   "source": [
    "Although the K-Nearest Neighbors method doesn't require \"training\", we use the *fit( )* function to store the training set in the KNeighborsClassifier. "
   ]
  },
  {
   "cell_type": "code",
   "execution_count": 26,
   "id": "94795c93",
   "metadata": {},
   "outputs": [],
   "source": [
    "kn = KNeighborsClassifier()"
   ]
  },
  {
   "cell_type": "code",
   "execution_count": 27,
   "id": "c815ae35",
   "metadata": {},
   "outputs": [
    {
     "data": {
      "text/plain": [
       "KNeighborsClassifier()"
      ]
     },
     "execution_count": 27,
     "metadata": {},
     "output_type": "execute_result"
    }
   ],
   "source": [
    "kn.fit(X_train.values,y_train)"
   ]
  },
  {
   "cell_type": "markdown",
   "id": "3a1b3d74",
   "metadata": {},
   "source": [
    "Using the same sample datapoint as I did in the previous parts, I want to compare the probabilities for predicting the classification of the Iris's species."
   ]
  },
  {
   "cell_type": "code",
   "execution_count": 28,
   "id": "edf3d243",
   "metadata": {},
   "outputs": [
    {
     "data": {
      "text/plain": [
       "array([[0., 0., 1.]])"
      ]
     },
     "execution_count": 28,
     "metadata": {},
     "output_type": "execute_result"
    }
   ],
   "source": [
    "kn.predict_proba([[7.9,3.8,6.4,2.0]])"
   ]
  },
  {
   "cell_type": "markdown",
   "id": "54e4f1fc",
   "metadata": {},
   "source": [
    "The predict_proba function shows that there is a 0.00 chance the iris is a setosa, a 0.00 chance the iris is a versicolor, and a 1.00 chance that the iris is a virginica. Similarly to models in previous parts, this model predicts that this Iris is most likely a virginica. However, this model predicts its classification with 100% certainty. This is probably because most of the surrounding datapoints (if not all of them) are classified as virginicas, and because of K-Nearest Neighbors's ***blend into your surroundings*** approach, the datapoint is classified with utmost certainty. "
   ]
  },
  {
   "cell_type": "code",
   "execution_count": 29,
   "id": "4c0da06e",
   "metadata": {},
   "outputs": [
    {
     "data": {
      "text/plain": [
       "0.9733333333333334"
      ]
     },
     "execution_count": 29,
     "metadata": {},
     "output_type": "execute_result"
    }
   ],
   "source": [
    "kn_scores = cross_val_score(kn,X,y,cv=5)\n",
    "kn_scores.mean()"
   ]
  },
  {
   "cell_type": "markdown",
   "id": "13759964",
   "metadata": {},
   "source": [
    "The score for out K-Nearest Neighbors model is 0.9734, which shows that this model is really good at predicting an Iris's species classification. This score is very similar to the scores of the models in the previous parts. "
   ]
  },
  {
   "cell_type": "markdown",
   "id": "6c18dd03",
   "metadata": {},
   "source": [
    "# Part 7: Conclusions and Takeaways"
   ]
  },
  {
   "cell_type": "markdown",
   "id": "2987e909",
   "metadata": {},
   "source": [
    "According to the results of each model, they all performed about the same. While experimenting with the data, I decided at one point to take away the *random_state* parameter to see how the results would differ. After re-running each model, I found that **all** of the scores seemed to range anywhere from 0.95 to 1.00. This seems to solidify the conclusion that all of the models were equally as good at predicting the Iris's classification. \n",
    "\n",
    "It surprised me that the results were very close in score. However, I think this is because of the small test set. Given that the test set was only 15 datapoints, there probably wasn't enough data to evaluate the model with. If the test set was a greater percentage of the data, there might have been more differentiation between the scores for each model. "
   ]
  }
 ],
 "metadata": {
  "kernelspec": {
   "display_name": "Python 3 (ipykernel)",
   "language": "python",
   "name": "python3"
  },
  "language_info": {
   "codemirror_mode": {
    "name": "ipython",
    "version": 3
   },
   "file_extension": ".py",
   "mimetype": "text/x-python",
   "name": "python",
   "nbconvert_exporter": "python",
   "pygments_lexer": "ipython3",
   "version": "3.9.7"
  }
 },
 "nbformat": 4,
 "nbformat_minor": 5
}
